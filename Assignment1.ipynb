{
  "nbformat": 4,
  "nbformat_minor": 0,
  "metadata": {
    "colab": {
      "name": "Assignment 1",
      "provenance": [],
      "include_colab_link": true
    },
    "kernelspec": {
      "name": "python3",
      "display_name": "Python 3"
    },
    "language_info": {
      "name": "python"
    }
  },
  "cells": [
    {
      "cell_type": "markdown",
      "metadata": {
        "id": "view-in-github",
        "colab_type": "text"
      },
      "source": [
        "<a href=\"https://colab.research.google.com/github/Moskera470/Intro-Exp-Physics-Lab/blob/main/Assignment1.ipynb\" target=\"_parent\"><img src=\"https://colab.research.google.com/assets/colab-badge.svg\" alt=\"Open In Colab\"/></a>"
      ]
    },
    {
      "cell_type": "markdown",
      "metadata": {
        "id": "ahbTW1_f4AI5"
      },
      "source": [
        "#[Introduction to Python for Science and Engineering](https://www.taylorfrancis.com/books/mono/10.1201/9780429506413/introduction-python-science-engineering-david-pine)\n",
        "\n",
        "###The following exercises were reproduced from David Pine's Python Manual: [chapter 2: Launching Python](https://www.taylorfrancis.com/chapters/mono/10.1201/9780429506413-2/launching-python-david-pine) and adapted and extended by Paul McNulty and Marc Gershow\n",
        "[previous version of manual, accessible without library access](https://physics.nyu.edu/pine/pymanual/html/pymanMaster.html)\n",
        "\n",
        "[previous version of chapter 2](https://physics.nyu.edu/pine/pymanual/html/chap2/chap2_basics.html)"
      ]
    },
    {
      "cell_type": "code",
      "metadata": {
        "id": "0vmwmUzsjY6j"
      },
      "source": [
        "##RUN THIS CODE BLOCK FIRST - it brings in functions like sin, cos, log, ...\n",
        "#in the future, we'll do things slightly differently to make your code more robust and portable...\n",
        "from numpy import *"
      ],
      "execution_count": 1,
      "outputs": []
    },
    {
      "cell_type": "markdown",
      "metadata": {
        "id": "AY3ov0Ni4yTV"
      },
      "source": [
        "##2.12.1\n",
        "\n",
        "A ball is thrown vertically up in the air from a height $h_0$ above the ground at an initial velocity $v_0$. Its subsequent height $h$ and velocity $v$ are given by the equations\n",
        "\n",
        "$h = h_0 + v_0 t - \\frac{1}{2}gt^2$\n",
        "\n",
        "$v = v_0 - gt$\n",
        "\n",
        "where $g=9.8$ is the acceleration due to gravity in m/s$^2$. Write code that finds the height $h$ and velocity $v$ at a time $t$ after the ball is thrown. Start by setting $h_0=1.2$ (meters) and $v_0 = 5.4$ (m/s) and have your code print out the values of height and velocity (see _[Note about printing](https://physics.nyu.edu/pine/pymanual/html/chap2/chap2_basics.html#printnote)_). First print the height and velocity after 0.5 seconds. Then add more code to find them after 2.0 seconds.\n",
        "\n",
        "When you execute the code block you write below, there should be 4 numbers output, each on its own line. If you want to be fancy, you could make the script write something like\n",
        "\n",
        "h(0.5) = 2.7\n",
        "\n",
        "but\n",
        "\n",
        "2.7\n",
        "\n",
        "would also be fine, as would\n",
        "\n",
        "2.675000000\n",
        "\n",
        "In other words, we don't care how your answer is formatted (for now). You will probably find it's easiest to cut and paste a large portion of your answer to the t = 0.5 section to calculate the t = 2.0 answer. *What code do you have to recopy and what stays the same?* This is OK for now, but at the end of the assingment you'll learn a better way to make your code reusable"
      ]
    },
    {
      "cell_type": "code",
      "metadata": {
        "id": "aDl-k0Fk2eb4",
        "outputId": "da10ff0a-8af9-4134-ae19-3deee5a59b7f",
        "colab": {
          "base_uri": "https://localhost:8080/"
        }
      },
      "source": [
        "##USE THIS CODE BLOCK TO COMPLETE EXERCISE 2.12.1##\n",
        "#Calculate the value of h\n",
        "t=0.5\n",
        "t1=2\n",
        "g=9.8\n",
        "h0=1.2\n",
        "v0=5.4\n",
        "h=h0+v0*t-1/2*g*t**2\n",
        "h1=h0+v0*t1-1/2*g*t1**2\n",
        "print(h,h1)"
      ],
      "execution_count": 19,
      "outputs": [
        {
          "output_type": "stream",
          "name": "stdout",
          "text": [
            "2.6750000000000003 -7.600000000000001\n"
          ]
        }
      ]
    },
    {
      "cell_type": "markdown",
      "metadata": {
        "id": "_2EqELbY8b7X"
      },
      "source": [
        "##2.12.2\n",
        "\n",
        "Write a script that defines the variables $V_0 = 10$, $a=2.5$, and $z=4\\frac{1}{3}$, and then evaluates the expression\n",
        "\n",
        "$V = V_0 \\left(1-\\frac{z}{\\sqrt{a^2 + z^2}}\\right)$\n",
        "\n",
        "Then find $V$ for $z=8\\frac{2}{3}$ and print it out (see _[Note about printing](https://physics.nyu.edu/pine/pymanual/html/chap2/chap2_basics.html#printnote)_). Then find $V$ for $z=13$ by changing the value of $z$ in your script.\n",
        "\n",
        "Again, you don't have to worry about how your answer is formatted"
      ]
    },
    {
      "cell_type": "code",
      "metadata": {
        "id": "Ogchuuc19T0K",
        "outputId": "3f1d9e67-db46-4e16-aee5-c7909ba851b0",
        "colab": {
          "base_uri": "https://localhost:8080/"
        }
      },
      "source": [
        "##USE THIS CODE BLOCK TO COMPLETE EXERCISE 2.12.2##\n",
        "#Calculate for value of V\n",
        "V0=10\n",
        "a=2.5\n",
        "z=13/3\n",
        "z1=26/3\n",
        "V=V0*(1-(z/sqrt(a**2+z**2)))\n",
        "V1=V0*(1-(z1/sqrt(a**2+z1**2)))\n",
        "print(V,V1)"
      ],
      "execution_count": 28,
      "outputs": [
        {
          "output_type": "stream",
          "name": "stdout",
          "text": [
            "1.338144139513996 0.39176408819105335\n"
          ]
        }
      ]
    },
    {
      "cell_type": "markdown",
      "metadata": {
        "id": "xAEZpywo9aCz"
      },
      "source": [
        "##2.12.3\n",
        "\n",
        "In the code block below, write code that calculates the following expressions:\n",
        "\n",
        "1. $a = \\frac{2 + e^{2.8}}{\\sqrt{13}-2}$\n",
        "1. $b = \\frac{1 - \\left(1 + \\ln{2}\\right)^{-3.5}}{1+\\sqrt{5}}$\n",
        "1. $c = \\sin{\\left(\\frac{2-\\sqrt{2}}{2+\\sqrt{2}}\\right)}$\n",
        "\n",
        "After running this code block, typing $a$, $b$, or $c$ in the next code block, followed by shift+return should yield the value of the expressions in (a), (b), or (c), respectively."
      ]
    },
    {
      "cell_type": "code",
      "metadata": {
        "id": "Q9kTXVhI-xwB",
        "outputId": "034b72c8-a262-48a1-e525-d40134396a29",
        "colab": {
          "base_uri": "https://localhost:8080/"
        }
      },
      "source": [
        "##USE THIS CODE BLOCK TO COMPLETE EXERCISE 2.12.3##\n",
        "#Calculate the values of 'a', 'b', and 'c'\n",
        "a=2+exp(2.8)/(sqrt(13)-2)\n",
        "b=1-(1+log(2)**-3.5)/(1+sqrt(5))\n",
        "c=sin(2-sqrt(2))/(2+sqrt(2))\n",
        "print(a,b,c)"
      ],
      "execution_count": 42,
      "outputs": [
        {
          "output_type": "stream",
          "name": "stdout",
          "text": [
            "12.242367853586426 -0.42355081168503705 0.161927443598299\n"
          ]
        }
      ]
    },
    {
      "cell_type": "code",
      "metadata": {
        "id": "k1dF3p4ylItJ",
        "outputId": "e74b1585-6733-4459-be04-a57f9f8e8928",
        "colab": {
          "base_uri": "https://localhost:8080/"
        }
      },
      "source": [
        "##USE THIS CODE BLOCK TO TEST YOUR ANSWER##\n",
        "a=2+exp(2.8)/(sqrt(13)-2)\n",
        "b=1-(1+log(2)**-3.5)/(1+sqrt(5))\n",
        "c=sin(2-sqrt(2))/(2+sqrt(2))\n",
        "print(a,b,c)"
      ],
      "execution_count": 43,
      "outputs": [
        {
          "output_type": "stream",
          "name": "stdout",
          "text": [
            "12.242367853586426 -0.42355081168503705 0.161927443598299\n"
          ]
        }
      ]
    },
    {
      "cell_type": "markdown",
      "metadata": {
        "id": "g4z-30W2-7ql"
      },
      "source": [
        "##2.12.4\n",
        "\n",
        "A quadratic equation with the general form\n",
        "\n",
        "$ax^2 + bx + c = 0$\n",
        "\n",
        "has two solutions given by the quadratic formula\n",
        "\n",
        "$x = \\frac{-b \\pm \\sqrt{b^2 - 4ac}}{2a}$.\n",
        "\n",
        "1. Given $a$, $b$, and $c$ as inputs, write code that gives the numerical values of the two solutions. Write the constants $a$, $b$, and $c$ as floats, and show that your script gives the correct solutions for a few test cases when the solutions are real numbers, that is, when the discriminant $b^2-4ac\\geq 0$. Use the `print` function in your script, discussed at the end of Section 2.8.1 _[Scripting Example 1](https://physics.nyu.edu/pine/pymanual/html/chap2/chap2_basics.html#chap2-scriptexmp1)_, to print out your two solutions.\n",
        "1. Written this way, however, your script gives an error message when the solutions are complex. For example, see what happens when $a=1$, $b=2$, and $c=3$. You can fix this using statements in your script like $a = a+0j$ after setting $a$ to some float value. Thus, you can make the script work for any set of real inputs for $a$, $b$, and $c$. Again, use the `print` function to print out your two solutions."
      ]
    },
    {
      "cell_type": "code",
      "metadata": {
        "id": "r-5EIrnNCZGm",
        "outputId": "ae234594-2457-471b-b73e-8a3227cd5720",
        "colab": {
          "base_uri": "https://localhost:8080/"
        }
      },
      "source": [
        "##USE THIS CODE BLOCK TO COMPLETE EXERCISE 2.12.4##\n",
        "a = 1 + 0j\n",
        "b = 2 + 0j\n",
        "c = 3 + 0j\n",
        "##write your code to print the results\n",
        "\n",
        "xpositive=(-b+sqrt(b**2-4*a*c))/(2*a)\n",
        "xnegative=(-b-sqrt(b**2-4*a*c))/(2*a)\n",
        "print(xpositive,xnegative)"
      ],
      "execution_count": 55,
      "outputs": [
        {
          "output_type": "stream",
          "name": "stdout",
          "text": [
            "(-1+1.4142135623730951j) (-1-1.4142135623730951j)\n"
          ]
        }
      ]
    },
    {
      "cell_type": "markdown",
      "metadata": {
        "id": "GAG8o-bFl3z5"
      },
      "source": [
        "#LOOKING AHEAD: FUNCTIONS\n",
        "\n",
        "It sure is a pain having to cut and paste or retype the same code over and over again, and it makes it really easy to make mistakes; what if you didn't type in a value of a in 2.12.4? The computer would happily use the value you calculated in 2.12.3 earlier.\n",
        "\n",
        "**Functions** make your code reusable! The Pine manual introduces functions very late ([in chapter 7](https://www.taylorfrancis.com/chapters/mono/10.1201/9780429506413-7/functions-david-pine)) compared to most books.\n",
        "\n",
        "Let's look at redoing 2.12.4 using a function\n",
        "\n"
      ]
    },
    {
      "cell_type": "code",
      "metadata": {
        "colab": {
          "base_uri": "https://localhost:8080/"
        },
        "id": "ENAUMSDRlVSh",
        "outputId": "96008f3d-0e37-4a8a-c7bf-9b98df3d43ac"
      },
      "source": [
        "def printQuadraticSolution(a,b,c):\n",
        "  a = a+0j #make the number complex to allow for complex solutions\n",
        "  x1 = (-b + sqrt(b**2 - 4*a*c))/(2*a)\n",
        "  x2 = (-b - sqrt(b**2 - 4*a*c))/(2*a)\n",
        "  print((x1,x2))\n",
        "\n",
        "printQuadraticSolution(1,2,3)\n",
        "printQuadraticSolution(1, 2, 1)"
      ],
      "execution_count": 56,
      "outputs": [
        {
          "output_type": "stream",
          "name": "stdout",
          "text": [
            "((-1+1.4142135623730951j), (-1-1.4142135623730951j))\n",
            "((-1+0j), (-1+0j))\n"
          ]
        }
      ]
    },
    {
      "cell_type": "markdown",
      "metadata": {
        "id": "7YwAtxlSsltz"
      },
      "source": [
        "The function definition looks like this\n",
        "  1. the keyword def (for define) that tells you you're about to write a function\n",
        "  2. the name of the function ( \"printQuadraticSolution\" )\n",
        "  3. the arguments to the function (a, b, c) - what you will \"pass\" to the function to give it the information it needs to know to run\n",
        "  4. a colon : which has to be there as the last part of the first line\n",
        "  5. the rest of the code, which is all **indented**. Python uses indentation to say what is part of the function and what isn't\n",
        "\n",
        "  Now please fix the line \"x2 = ....\" above to calculate the other solution, then test it out with a few new values below"
      ]
    },
    {
      "cell_type": "markdown",
      "metadata": {
        "id": "Wy1Kh9KTMTfI"
      },
      "source": [
        "##Functions can return results\n",
        "\n",
        "When you type y = sin(x), you are calling a function ( sin ). You pass a value to the function ( x ) and you get something back, the sine of x, in return. When a function **returns** a value, you use the keyword **return** at the **end** of the function to say what it is\n",
        "\n",
        "In Python a function can return multiple values.\n",
        "\n",
        "For instance, instead of printing out the two solutions to the quadratic equation, we could write a function that **returns** them to us to use later"
      ]
    },
    {
      "cell_type": "code",
      "metadata": {
        "colab": {
          "base_uri": "https://localhost:8080/"
        },
        "id": "c4x_uiYdNczN",
        "outputId": "1c3759a5-f3fb-442c-cf7a-9b3ed63e90bd"
      },
      "source": [
        "def getQuadraticSolution(a,b,c):\n",
        "  a = a+0j #make the number complex to allow for complex solutions\n",
        "  x1 = (-b + sqrt(b**2 - 4*a*c))/(2*a)\n",
        "  x2 = (-b - sqrt(b**2 - 4*a*c))/(2*a)\n",
        "  return (x1,x2)\n",
        "\n",
        "(x1,x2) = getQuadraticSolution(1,5,6)\n",
        "print(\"The two solutions returned by getQuadraticSolution were x1 = {} and x2 = {}\".format(x1,x2))"
      ],
      "execution_count": 62,
      "outputs": [
        {
          "output_type": "stream",
          "name": "stdout",
          "text": [
            "The two solutions returned by getQuadraticSolution were x1 = (-2+0j) and x2 = (-3+0j)\n"
          ]
        }
      ]
    },
    {
      "cell_type": "markdown",
      "metadata": {
        "id": "UDOJG4OdN9gV"
      },
      "source": [
        "*Test your knowledge:* See if you can use a function to redo the first problem without so much cutting and pasting. I'll get you started"
      ]
    },
    {
      "cell_type": "code",
      "metadata": {
        "id": "5ozi5KXPN6Om",
        "outputId": "7c6a8750-da18-4f19-9b52-cecb8a9d8757",
        "colab": {
          "base_uri": "https://localhost:8080/"
        }
      },
      "source": [
        "def ballHeightAndVelocity (h0, v0,g, t):\n",
        "  ## your code here\n",
        "  h = h0+v0*t-1/2*g*t**2\n",
        "  v = (v0*-g*t)\n",
        "  return (h,v)\n",
        "(h, v) = ballHeightAndVelocity(1.2, 5.4, 9.8, 2)\n",
        "print(h, v)"
      ],
      "execution_count": 69,
      "outputs": [
        {
          "output_type": "stream",
          "name": "stdout",
          "text": [
            "-7.600000000000001 -105.84000000000002\n"
          ]
        }
      ]
    }
  ]
}